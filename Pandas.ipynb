{
 "cells": [
  {
   "cell_type": "markdown",
   "metadata": {},
   "source": [
    "# Pandas"
   ]
  },
  {
   "cell_type": "markdown",
   "metadata": {},
   "source": [
    "Pandas and the Panda DataFrame is powerful for manipulating large datasets and unlike Numpy can contain data of more than one type. It can also pull in and read CSV files."
   ]
  },
  {
   "cell_type": "code",
   "execution_count": 16,
   "metadata": {},
   "outputs": [
    {
     "name": "stdout",
     "output_type": "stream",
     "text": [
      "     cars_per_cap        country  drives_right\n",
      "US            809  United States          True\n",
      "AUS           731      Australia         False\n",
      "JAP           588          Japan         False\n",
      "IN             18          India         False\n",
      "RU            200         Russia          True\n",
      "MOR            70        Morocco          True\n",
      "EG             45          Egypt          True\n"
     ]
    }
   ],
   "source": [
    "import pandas as pd\n",
    "\n",
    "cars = pd.read_csv(r\"C:\\Users\\lrspe\\Desktop\\MS Data Science\\5. Python for Data Science\\cars.csv\", index_col = 0)\n",
    "\n",
    "print(cars)"
   ]
  },
  {
   "cell_type": "markdown",
   "metadata": {},
   "source": [
    "To make column selections of the data, square brackets can be used - single for a Panda series, or double for a Panda DataFrame. "
   ]
  },
  {
   "cell_type": "code",
   "execution_count": 18,
   "metadata": {},
   "outputs": [
    {
     "name": "stdout",
     "output_type": "stream",
     "text": [
      "US     809\n",
      "AUS    731\n",
      "JAP    588\n",
      "IN      18\n",
      "RU     200\n",
      "MOR     70\n",
      "EG      45\n",
      "Name: cars_per_cap, dtype: int64\n"
     ]
    }
   ],
   "source": [
    "print(cars['cars_per_cap'])"
   ]
  },
  {
   "cell_type": "markdown",
   "metadata": {},
   "source": [
    "Further sub-DataFrames can be made, creating a DataFrame from a pre-existing one, or selecting just one row but displaying it as a series in a column."
   ]
  },
  {
   "cell_type": "code",
   "execution_count": 20,
   "metadata": {},
   "outputs": [
    {
     "name": "stdout",
     "output_type": "stream",
     "text": [
      "cars_per_cap      588\n",
      "country         Japan\n",
      "drives_right    False\n",
      "Name: JAP, dtype: object\n"
     ]
    }
   ],
   "source": [
    "print(cars.loc['JAP'])"
   ]
  },
  {
   "cell_type": "code",
   "execution_count": 21,
   "metadata": {},
   "outputs": [
    {
     "name": "stdout",
     "output_type": "stream",
     "text": [
      "     cars_per_cap        country  drives_right\n",
      "US            809  United States          True\n",
      "AUS           731      Australia         False\n"
     ]
    }
   ],
   "source": [
    "print(cars.loc[['US','AUS']])"
   ]
  },
  {
   "cell_type": "code",
   "execution_count": 23,
   "metadata": {},
   "outputs": [
    {
     "name": "stdout",
     "output_type": "stream",
     "text": [
      "MOR    True\n",
      "Name: drives_right, dtype: bool\n",
      "     country  drives_right\n",
      "MOR  Morocco          True\n",
      "RU    Russia          True\n"
     ]
    }
   ],
   "source": [
    "print(cars.loc[['MOR'], 'drives_right'])\n",
    "\n",
    "print(cars.loc[['MOR', 'RU'], ['country', 'drives_right']])"
   ]
  },
  {
   "cell_type": "markdown",
   "metadata": {},
   "source": [
    "Another useful tool is adding custom columns to the dataset - either by a list or by existing variables."
   ]
  },
  {
   "cell_type": "code",
   "execution_count": 39,
   "metadata": {},
   "outputs": [
    {
     "name": "stdout",
     "output_type": "stream",
     "text": [
      "     cars_per_cap        country  drives_right     gdp\n",
      "US            809  United States          True    High\n",
      "AUS           731      Australia         False    High\n",
      "JAP           588          Japan         False    High\n",
      "IN             18          India         False  Medium\n",
      "RU            200         Russia          True  Medium\n",
      "MOR            70        Morocco          True     Low\n",
      "EG             45          Egypt          True     Low\n"
     ]
    }
   ],
   "source": [
    "# Now this has added a new column as specified by the list\n",
    "cars[\"gdp\"] = ['High', 'High', 'High', 'Medium', 'Medium', 'Low', 'Low']]\n",
    "print(cars)"
   ]
  },
  {
   "cell_type": "code",
   "execution_count": 42,
   "metadata": {},
   "outputs": [
    {
     "name": "stdout",
     "output_type": "stream",
     "text": [
      "     cars_per_cap        country  drives_right     gdp  cars/100\n",
      "US            809  United States          True    High      8.09\n",
      "AUS           731      Australia         False    High      7.31\n",
      "JAP           588          Japan         False    High      5.88\n",
      "IN             18          India         False  Medium      0.18\n",
      "RU            200         Russia          True  Medium      2.00\n",
      "MOR            70        Morocco          True     Low      0.70\n",
      "EG             45          Egypt          True     Low      0.45\n"
     ]
    }
   ],
   "source": [
    "# Here a custom column \"cars/100\" is added dividing \"cars_per_cap\" by 100\n",
    "cars[\"cars/100\"] = cars[\"cars_per_cap\"] / 100\n",
    "print(cars)"
   ]
  },
  {
   "cell_type": "code",
   "execution_count": null,
   "metadata": {},
   "outputs": [],
   "source": []
  }
 ],
 "metadata": {
  "kernelspec": {
   "display_name": "Python 3",
   "language": "python",
   "name": "python3"
  },
  "language_info": {
   "codemirror_mode": {
    "name": "ipython",
    "version": 3
   },
   "file_extension": ".py",
   "mimetype": "text/x-python",
   "name": "python",
   "nbconvert_exporter": "python",
   "pygments_lexer": "ipython3",
   "version": "3.7.0"
  }
 },
 "nbformat": 4,
 "nbformat_minor": 2
}
