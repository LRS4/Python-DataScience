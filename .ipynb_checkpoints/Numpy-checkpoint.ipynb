{
 "cells": [
  {
   "cell_type": "markdown",
   "metadata": {},
   "source": [
    "# Introduction to Numpy"
   ]
  },
  {
   "cell_type": "markdown",
   "metadata": {},
   "source": [
    "Numpy stands for numeric python, and using a Numpy Array as an alternative to a Python List allows for a more efficient way to handle data. "
   ]
  },
  {
   "cell_type": "markdown",
   "metadata": {},
   "source": [
    "However, arrays can only use one data type, if there is more than one data type it defaults to strings."
   ]
  },
  {
   "cell_type": "code",
   "execution_count": 4,
   "metadata": {},
   "outputs": [
    {
     "name": "stdout",
     "output_type": "stream",
     "text": [
      "[180 215 210 210 188 176 209 200]\n"
     ]
    }
   ],
   "source": [
    "import numpy as np\n",
    "\n",
    "baseball = [180, 215, 210, 210, 188, 176, 209, 200]\n",
    "\n",
    "np_baseball = np.array(baseball)\n",
    "\n",
    "print(np_baseball)"
   ]
  },
  {
   "cell_type": "markdown",
   "metadata": {},
   "source": [
    "After calculating BMI below, an array showing all players (1) with a BMI less than 21 can be created and then identified from the existing array. Here light is used as an index of the existing array - a sub-category."
   ]
  },
  {
   "cell_type": "code",
   "execution_count": 17,
   "metadata": {},
   "outputs": [
    {
     "name": "stdout",
     "output_type": "stream",
     "text": [
      "[False False False False False False False False  True False False]\n",
      "[20.0842081]\n",
      "1\n"
     ]
    }
   ],
   "source": [
    "height = [74, 74, 73, 74, 75, 77, 73, 74, 76, 74, 75, ]\n",
    "weight = [190, 170, 208, 225, 190, 225, 185, 180, 165, 240, 220]\n",
    "\n",
    "# Import numpy\n",
    "import numpy as np\n",
    "\n",
    "# Calculate the BMI: bmi\n",
    "np_height_m = np.array(height) * 0.0254\n",
    "np_weight_kg = np.array(weight) * 0.453592\n",
    "bmi = np_weight_kg / np_height_m ** 2\n",
    "\n",
    "# Create the light array\n",
    "light = bmi < 21\n",
    "\n",
    "# Print out light\n",
    "print(light)\n",
    "\n",
    "# Print out BMIs of all baseball players whose BMI is below 21 and a count\n",
    "print(bmi[light])\n",
    "print(np.count_nonzero(light))"
   ]
  },
  {
   "cell_type": "markdown",
   "metadata": {},
   "source": [
    "Using Numpy Array data structures may be affected differently when using arithmetic operators i.e. + * / - Here True is converted to 1 and False as 0."
   ]
  },
  {
   "cell_type": "code",
   "execution_count": 4,
   "metadata": {},
   "outputs": [
    {
     "data": {
      "text/plain": [
       "array([4, 5, 2])"
      ]
     },
     "execution_count": 4,
     "metadata": {},
     "output_type": "execute_result"
    }
   ],
   "source": [
    "import numpy as np\n",
    "\n",
    "# these two lines create the same result using addition\n",
    "\n",
    "np.array([True, 1, 2]) + np.array([3, 4, False])\n",
    "\n",
    "np.array([4, 3, 0]) + np.array([0, 2, 2])"
   ]
  },
  {
   "cell_type": "markdown",
   "metadata": {},
   "source": [
    "Subsetting Numpy Arrays works in a very similar way to lists with square brackets, however arithmetic will apply to both arrays slotted together."
   ]
  },
  {
   "cell_type": "code",
   "execution_count": 6,
   "metadata": {},
   "outputs": [
    {
     "name": "stdout",
     "output_type": "stream",
     "text": [
      "40\n",
      "[22 11 22 40  9]\n",
      "[130  70  90  90  55  33  33  49  79 128]\n"
     ]
    }
   ],
   "source": [
    "import numpy as np\n",
    "\n",
    "np_data_one = np.array([70, 60, 50, 40, 33, 22, 11, 9, 70, 60])\n",
    "\n",
    "np_data_two = np.array([60, 10, 40, 50, 22, 11, 22, 40, 9, 68])\n",
    "\n",
    "print(np_data_one[3])\n",
    "\n",
    "print(np_data_two[4:9])\n",
    "\n",
    "print(np_data_one + np_data_two)"
   ]
  },
  {
   "cell_type": "markdown",
   "metadata": {},
   "source": [
    "2D Arrays can also be used to display data in columns and rows. These can be selected using square brackets too, and function similarly. 2D Arrays can be produced from existing Python lists. Using the shape function is useful to understand the structure of larger datasets."
   ]
  },
  {
   "cell_type": "code",
   "execution_count": 1,
   "metadata": {},
   "outputs": [
    {
     "name": "stdout",
     "output_type": "stream",
     "text": [
      "<class 'numpy.ndarray'>\n",
      "(4, 2)\n"
     ]
    }
   ],
   "source": [
    "# Create baseball, a list of lists\n",
    "baseball = [[180, 78.4],\n",
    "            [215, 102.7],\n",
    "            [210, 98.5],\n",
    "            [188, 75.2]]\n",
    "\n",
    "# Import numpy\n",
    "import numpy as np\n",
    "\n",
    "# Create a 2D Numpy array from baseball: np_baseball\n",
    "np_baseball = np.array(baseball)\n",
    "\n",
    "# Print out the type of np_baseball\n",
    "print(type(np_baseball))\n",
    "\n",
    "# Print out the shape of np_baseball which is 4 rows 2 columns\n",
    "print(np_baseball.shape)"
   ]
  },
  {
   "cell_type": "markdown",
   "metadata": {},
   "source": [
    "To subset and slice a 2D Array, square brackets are used with the first number the row, and the second the column.  Remember that in Python, the first element is at index 0! This counts for rows and columns!!"
   ]
  },
  {
   "cell_type": "code",
   "execution_count": 30,
   "metadata": {},
   "outputs": [
    {
     "name": "stdout",
     "output_type": "stream",
     "text": [
      "[210.   98.5]\n",
      "[78.4 77.7 98.5 75.2 85.  43. ]\n",
      "188.0\n",
      "[24.19753086 20.43392505 22.33560091 21.27659574 25.66115203 16.796875  ]\n"
     ]
    }
   ],
   "source": [
    "import numpy as np\n",
    "\n",
    "# Create a 2D array\n",
    "np_baseball = np.array([[180, 78.4],\n",
    "                        [195, 77.7],\n",
    "                        [210, 98.5],\n",
    "                        [188, 75.2],\n",
    "                        [182, 85.0],\n",
    "                        [160, 43.0]])\n",
    "\n",
    "# Print out the 3rd row of np_baseball\n",
    "print(np_baseball[2,:])\n",
    "\n",
    "# Select the entire second column of np_baseball as np_weight\n",
    "print(np_baseball[:,1])\n",
    "\n",
    "# Print out height of 4th player\n",
    "print(np_baseball[3,0])\n",
    "\n",
    "# height in metres\n",
    "height_m = np_baseball[:,0] / 100\n",
    "\n",
    "print((np_baseball[:,1] / height_m)/height_m)"
   ]
  },
  {
   "cell_type": "markdown",
   "metadata": {},
   "source": [
    "Numpy Arrays can generate random data, and produce summary statistics for the dataset using functions. Here heights and weights are randomly generated by mean, stdev and iterations to produce 5000 data points - then stacking them together."
   ]
  },
  {
   "cell_type": "code",
   "execution_count": 49,
   "metadata": {},
   "outputs": [
    {
     "name": "stdout",
     "output_type": "stream",
     "text": [
      "1.7396040000000002\n",
      "60.48364599999999\n"
     ]
    }
   ],
   "source": [
    "import numpy as np\n",
    "                               #  mean stdev iterations decimals\n",
    "height = np.round(np.random.normal(1.74, 0.25, 5000), 2)\n",
    "weight = np.round(np.random.normal(60.32, 15, 5000), 2)\n",
    "\n",
    "data = np.column_stack((height, weight))\n",
    "\n",
    "print(np.mean(data[:,0]))\n",
    "print(np.mean(data[:,1]))\n"
   ]
  },
  {
   "cell_type": "markdown",
   "metadata": {},
   "source": [
    "Finally, using an index the mean height of goalkeepers can be found and compared to attackers, midfielders or defenders"
   ]
  },
  {
   "cell_type": "code",
   "execution_count": 3,
   "metadata": {},
   "outputs": [
    {
     "name": "stdout",
     "output_type": "stream",
     "text": [
      "Median height of goalkeepers: 189.0\n",
      "Median height of other players: 161.0\n"
     ]
    }
   ],
   "source": [
    "import numpy as np\n",
    "\n",
    "heights = np.array([188, 177, 160, 140, 190, 176, 162, 141])\n",
    "positions = np.array(['GK', 'A','M', 'D', 'GK', 'A','M', 'D', ])\n",
    "\n",
    "# Heights of the goalkeepers: gk_heights\n",
    "gk_heights = heights[positions == 'GK']\n",
    "\n",
    "# Heights of the other players: other_heights\n",
    "other_heights = heights[positions != 'GK']\n",
    "\n",
    "# Print out the median height of goalkeepers. Replace 'None'\n",
    "print(\"Median height of goalkeepers: \" + str(np.median(gk_heights)))\n",
    "\n",
    "# Print out the median height of other players. Replace 'None'\n",
    "print(\"Median height of other players: \" + str(np.median(other_heights)))"
   ]
  },
  {
   "cell_type": "code",
   "execution_count": null,
   "metadata": {},
   "outputs": [],
   "source": []
  }
 ],
 "metadata": {
  "kernelspec": {
   "display_name": "Python 3",
   "language": "python",
   "name": "python3"
  },
  "language_info": {
   "codemirror_mode": {
    "name": "ipython",
    "version": 3
   },
   "file_extension": ".py",
   "mimetype": "text/x-python",
   "name": "python",
   "nbconvert_exporter": "python",
   "pygments_lexer": "ipython3",
   "version": "3.6.5"
  }
 },
 "nbformat": 4,
 "nbformat_minor": 2
}
